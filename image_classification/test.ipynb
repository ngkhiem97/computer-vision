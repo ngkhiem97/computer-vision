{
 "cells": [
  {
   "cell_type": "code",
   "execution_count": null,
   "metadata": {},
   "outputs": [],
   "source": []
  }
 ],
 "metadata": {
  "kernelspec": {
   "display_name": "base",
   "language": "python",
   "name": "python3"
  },
  "language_info": {
   "name": "python",
   "version": "3.9.13"
  },
  "orig_nbformat": 4,
  "vscode": {
   "interpreter": {
    "hash": "b2ef8efef05438f3cc9d6f26cc8a087a450b2ec2efd4426dfc5c5f3655d07f60"
   }
  }
 },
 "nbformat": 4,
 "nbformat_minor": 2
}
